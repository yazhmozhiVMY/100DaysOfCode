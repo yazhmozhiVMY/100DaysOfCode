{
 "cells": [
  {
   "cell_type": "code",
   "execution_count": 1,
   "id": "175a9eba-d88a-4132-a796-f0778ddbe2d1",
   "metadata": {},
   "outputs": [],
   "source": [
    "myDict = {'a':2,'b':9}"
   ]
  },
  {
   "cell_type": "code",
   "execution_count": 2,
   "id": "2d147f78-052c-4388-a364-790a4e53fca8",
   "metadata": {},
   "outputs": [
    {
     "data": {
      "text/plain": [
       "2"
      ]
     },
     "execution_count": 2,
     "metadata": {},
     "output_type": "execute_result"
    }
   ],
   "source": [
    "myDict['a']"
   ]
  },
  {
   "cell_type": "code",
   "execution_count": 6,
   "id": "86867012-a294-45b1-9d3f-0c82bd4dcb38",
   "metadata": {},
   "outputs": [
    {
     "data": {
      "text/plain": [
       "2"
      ]
     },
     "execution_count": 6,
     "metadata": {},
     "output_type": "execute_result"
    }
   ],
   "source": [
    "myDict.get('a',0)"
   ]
  },
  {
   "cell_type": "code",
   "execution_count": 8,
   "id": "72a01600-f4eb-45f2-beac-027d1ea3cca7",
   "metadata": {},
   "outputs": [
    {
     "data": {
      "text/plain": [
       "0"
      ]
     },
     "execution_count": 8,
     "metadata": {},
     "output_type": "execute_result"
    }
   ],
   "source": [
    "myDict.get('y',0)"
   ]
  },
  {
   "cell_type": "code",
   "execution_count": 11,
   "id": "6ab576b9-817f-4b36-aaea-461fc0308a62",
   "metadata": {},
   "outputs": [
    {
     "data": {
      "text/plain": [
       "'b'"
      ]
     },
     "execution_count": 11,
     "metadata": {},
     "output_type": "execute_result"
    }
   ],
   "source": [
    "max(myDict)"
   ]
  },
  {
   "cell_type": "markdown",
   "id": "72d0c7be-32a2-482d-b658-acb5189c1fb6",
   "metadata": {},
   "source": [
    "<div class =\"alert alert-block alert-info\">\n",
    "\n",
    "# Method 1 - using get and max methods\n",
    "</div>"
   ]
  },
  {
   "cell_type": "code",
   "execution_count": 15,
   "id": "899f6d7e-1a39-45f8-830f-6ed6f72fea61",
   "metadata": {},
   "outputs": [],
   "source": [
    "def method1(inputString):\n",
    "    freqDict = {}\n",
    "    for char in inputString:\n",
    "        freqDict[char] = freqDict.get(char,0)+1\n",
    "    return max(freqDict)"
   ]
  },
  {
   "cell_type": "code",
   "execution_count": 31,
   "id": "b07e1151-7eee-45a9-ba84-0ffe8bdf1500",
   "metadata": {},
   "outputs": [
    {
     "data": {
      "text/plain": [
       "'s'"
      ]
     },
     "execution_count": 31,
     "metadata": {},
     "output_type": "execute_result"
    }
   ],
   "source": [
    "method1(\"mississssippi\")"
   ]
  },
  {
   "cell_type": "code",
   "execution_count": 32,
   "id": "2571f5ab-0a0c-4637-8550-d7344ddbec63",
   "metadata": {},
   "outputs": [
    {
     "data": {
      "text/plain": [
       "'o'"
      ]
     },
     "execution_count": 32,
     "metadata": {},
     "output_type": "execute_result"
    }
   ],
   "source": [
    "method1(\"Helloooooo\")"
   ]
  },
  {
   "cell_type": "markdown",
   "id": "22087762-4b76-4d85-8e5b-a771eaa1a899",
   "metadata": {},
   "source": [
    "<div class =\"alert alert-block alert-info\">\n",
    "\n",
    "# Method 2 - Brute force\n",
    "</div>"
   ]
  },
  {
   "cell_type": "code",
   "execution_count": 25,
   "id": "0274aa60-3a5d-4cef-88f7-81834074cec2",
   "metadata": {},
   "outputs": [],
   "source": [
    "name = \"Hellooo\""
   ]
  },
  {
   "cell_type": "code",
   "execution_count": 26,
   "id": "fdae1957-4990-4c4f-bd84-78df64fe6a34",
   "metadata": {},
   "outputs": [
    {
     "data": {
      "text/plain": [
       "{'H', 'e', 'l', 'o'}"
      ]
     },
     "execution_count": 26,
     "metadata": {},
     "output_type": "execute_result"
    }
   ],
   "source": [
    "set(name)"
   ]
  },
  {
   "cell_type": "code",
   "execution_count": 27,
   "id": "975b179b-74f9-4d82-93e3-b63688d34c43",
   "metadata": {},
   "outputs": [
    {
     "data": {
      "text/plain": [
       "3"
      ]
     },
     "execution_count": 27,
     "metadata": {},
     "output_type": "execute_result"
    }
   ],
   "source": [
    "name.count('o')"
   ]
  },
  {
   "cell_type": "code",
   "execution_count": 29,
   "id": "b431fd93-3e00-40b3-a05e-296106ff7dd8",
   "metadata": {},
   "outputs": [],
   "source": [
    "def method2(inputString):\n",
    "    maxFreq = 0\n",
    "    for char in set(inputString):\n",
    "        freq = inputString.count(char)\n",
    "        if freq>maxFreq:\n",
    "            maxFreq=freq\n",
    "            maxChar = char\n",
    "    return maxChar\n",
    "        "
   ]
  },
  {
   "cell_type": "code",
   "execution_count": 34,
   "id": "578058c2-92d8-4569-9399-2c730bee827a",
   "metadata": {},
   "outputs": [
    {
     "data": {
      "text/plain": [
       "'s'"
      ]
     },
     "execution_count": 34,
     "metadata": {},
     "output_type": "execute_result"
    }
   ],
   "source": [
    "method2(\"mississssippi\")"
   ]
  },
  {
   "cell_type": "code",
   "execution_count": 35,
   "id": "00558708-b272-4603-97bd-66c31850e8fb",
   "metadata": {},
   "outputs": [
    {
     "data": {
      "text/plain": [
       "'o'"
      ]
     },
     "execution_count": 35,
     "metadata": {},
     "output_type": "execute_result"
    }
   ],
   "source": [
    "method2(\"Helloooooo\")"
   ]
  },
  {
   "cell_type": "markdown",
   "id": "76d538cf-b9c9-435d-bee3-c8e4efd58483",
   "metadata": {},
   "source": [
    "<div class =\"alert alert-block alert-info\">\n",
    "\n",
    "# Method 3 - using the sorted function\n",
    "</div>"
   ]
  },
  {
   "cell_type": "code",
   "execution_count": 41,
   "id": "b8494827-0198-48f5-a3fb-8bb5e658c72a",
   "metadata": {},
   "outputs": [],
   "source": [
    "st = \"aabccc\""
   ]
  },
  {
   "cell_type": "code",
   "execution_count": 42,
   "id": "bfc76d0b-076e-4d89-8344-f8aab0581e30",
   "metadata": {},
   "outputs": [
    {
     "data": {
      "text/plain": [
       "{'a', 'b', 'c'}"
      ]
     },
     "execution_count": 42,
     "metadata": {},
     "output_type": "execute_result"
    }
   ],
   "source": [
    "set(st)"
   ]
  },
  {
   "cell_type": "code",
   "execution_count": 44,
   "id": "e1d197d1-fae3-47fb-b8d6-e9d92527623e",
   "metadata": {},
   "outputs": [
    {
     "data": {
      "text/plain": [
       "['b', 'a', 'c']"
      ]
     },
     "execution_count": 44,
     "metadata": {},
     "output_type": "execute_result"
    }
   ],
   "source": [
    "sorted(set(st),key=lambda char:st.count(char)) # key is a function using which we wanna sort the set"
   ]
  },
  {
   "cell_type": "markdown",
   "id": "41d6ed73-904e-4808-8a59-93d6ebc955f1",
   "metadata": {},
   "source": [
    "### The freq of b is 1\n",
    "### The freq of a is 2\n",
    "### The freq of c is 3"
   ]
  },
  {
   "cell_type": "code",
   "execution_count": 46,
   "id": "3ad2d7ea-f1eb-4451-9db5-ec55336f04dc",
   "metadata": {},
   "outputs": [
    {
     "data": {
      "text/plain": [
       "['c', 'a', 'b']"
      ]
     },
     "execution_count": 46,
     "metadata": {},
     "output_type": "execute_result"
    }
   ],
   "source": [
    "sorted(set(st),key=lambda char:st.count(char),reverse=True) # descending order of frequencies of the characters in the set"
   ]
  },
  {
   "cell_type": "markdown",
   "id": "5b2bb991-9a10-49dc-99d8-8a1c399a8903",
   "metadata": {},
   "source": [
    "### We need the first item in the descending order list "
   ]
  },
  {
   "cell_type": "code",
   "execution_count": 47,
   "id": "f51c9578-4586-49cd-91da-f0f31bad3c0b",
   "metadata": {},
   "outputs": [
    {
     "data": {
      "text/plain": [
       "'c'"
      ]
     },
     "execution_count": 47,
     "metadata": {},
     "output_type": "execute_result"
    }
   ],
   "source": [
    "sorted(set(st),key=lambda char:st.count(char),reverse=True)[0]"
   ]
  },
  {
   "cell_type": "code",
   "execution_count": 48,
   "id": "18e0909b-218c-4efe-883c-6900b4d3f0e7",
   "metadata": {},
   "outputs": [],
   "source": [
    "def method3(inputString):\n",
    "    return sorted(set(inputString),key=lambda char:inputString.count(char),reverse=True)[0]"
   ]
  },
  {
   "cell_type": "code",
   "execution_count": 49,
   "id": "40fce289-a46e-4bfd-bddd-6575cd6e69da",
   "metadata": {},
   "outputs": [
    {
     "data": {
      "text/plain": [
       "'s'"
      ]
     },
     "execution_count": 49,
     "metadata": {},
     "output_type": "execute_result"
    }
   ],
   "source": [
    "method3(\"mississssippi\")"
   ]
  },
  {
   "cell_type": "code",
   "execution_count": 50,
   "id": "6130ad5b-6f4e-49f4-a4d2-de70c63a6a04",
   "metadata": {},
   "outputs": [
    {
     "data": {
      "text/plain": [
       "'o'"
      ]
     },
     "execution_count": 50,
     "metadata": {},
     "output_type": "execute_result"
    }
   ],
   "source": [
    "method3(\"Helloooooo\")"
   ]
  }
 ],
 "metadata": {
  "kernelspec": {
   "display_name": "Python 3 (ipykernel)",
   "language": "python",
   "name": "python3"
  },
  "language_info": {
   "codemirror_mode": {
    "name": "ipython",
    "version": 3
   },
   "file_extension": ".py",
   "mimetype": "text/x-python",
   "name": "python",
   "nbconvert_exporter": "python",
   "pygments_lexer": "ipython3",
   "version": "3.10.15"
  }
 },
 "nbformat": 4,
 "nbformat_minor": 5
}
