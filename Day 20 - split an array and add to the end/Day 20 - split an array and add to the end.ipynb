{
 "cells": [
  {
   "cell_type": "markdown",
   "id": "68142123-fb06-49a7-ad9e-fffea0ec4a06",
   "metadata": {},
   "source": [
    "<div class =\"alert alert-block alert-info\">\n",
    "\n",
    "# Method 1 - Brute force \n",
    "</div>"
   ]
  },
  {
   "cell_type": "code",
   "execution_count": 6,
   "id": "d8d54a15-36c0-4c36-bf63-7aafb1b2309b",
   "metadata": {},
   "outputs": [],
   "source": [
    "def splitArr(arr, n, k):\n",
    "    for i in range(0, k):\n",
    "        \n",
    "        x = arr[0]\n",
    "        for j in range(0, n-1):\n",
    "            \n",
    "            arr[j] = arr[j + 1]\n",
    " \n",
    "        arr[n-1] = x"
   ]
  },
  {
   "cell_type": "code",
   "execution_count": 7,
   "id": "95f1b0e1-f8f6-40ec-9c3b-243034975b6c",
   "metadata": {},
   "outputs": [],
   "source": [
    "arr = [1,2,3,4]\n",
    "splitArr(arr, 4, 2)"
   ]
  },
  {
   "cell_type": "code",
   "execution_count": 8,
   "id": "0fcc23fe-8b4f-4c4a-961c-351c1958a104",
   "metadata": {},
   "outputs": [
    {
     "data": {
      "text/plain": [
       "[3, 4, 1, 2]"
      ]
     },
     "execution_count": 8,
     "metadata": {},
     "output_type": "execute_result"
    }
   ],
   "source": [
    "arr"
   ]
  },
  {
   "cell_type": "markdown",
   "id": "3ec3fe94-5e06-4bb2-890d-7d74bfd06789",
   "metadata": {},
   "source": [
    "<div class = \"alert alert-block alert-success\">\n",
    "    \n",
    "#### Time complexity: O(nk), where n is the length of the array and k is the number of times the first part of the array needs to be moved to the end.\n",
    "#### Auxiliary space: O(1), the program only uses a constant amount of additional memory.\n",
    "\n",
    "</div>"
   ]
  },
  {
   "cell_type": "markdown",
   "id": "99efd229-3aec-416a-9cff-c9ed568720ac",
   "metadata": {},
   "source": [
    "<div class =\"alert alert-block alert-info\">\n",
    "\n",
    "# Method 2 - Slicing and extending\n",
    "</div>"
   ]
  },
  {
   "cell_type": "code",
   "execution_count": 10,
   "id": "a6b0aaa0-cae2-458f-ae1e-ae665b787f5d",
   "metadata": {},
   "outputs": [
    {
     "name": "stdout",
     "output_type": "stream",
     "text": [
      "[3, 4, 5, 1, 2]\n"
     ]
    }
   ],
   "source": [
    "inputArr = [1,2,3,4,5]\n",
    "splitPos = 2\n",
    "\n",
    "a = inputArr[:splitPos]\n",
    "b = inputArr[splitPos:]\n",
    "\n",
    "b.extend(a)\n",
    "print(b)\n"
   ]
  },
  {
   "cell_type": "markdown",
   "id": "2340aa10-6c0b-4a50-933b-a3e44b2c1577",
   "metadata": {},
   "source": [
    "<div class = \"alert alert-block alert-success\">\n",
    "\n",
    "#### Time complexity: O(n)\n",
    "#### Auxiliary space: O(n)\n",
    "\n",
    "</div>"
   ]
  },
  {
   "cell_type": "markdown",
   "id": "b5ea7fd0-99dc-4019-82a9-1aa9bb260904",
   "metadata": {},
   "source": [
    "<div class=\"alert alert-block alert-info\">\n",
    "\n",
    "# Method 3 - List comprehension\n",
    "</div>"
   ]
  },
  {
   "cell_type": "code",
   "execution_count": 11,
   "id": "07908902-4226-4048-bf86-7c8a99db47d7",
   "metadata": {},
   "outputs": [
    {
     "name": "stdout",
     "output_type": "stream",
     "text": [
      "[30, 40, 50, 10, 20]\n"
     ]
    }
   ],
   "source": [
    "inputArr = [10,20,30,40,50]\n",
    "size = len(inputArr)\n",
    "outList = [inputArr[(i+splitPos)%size] for i in range(size)]\n",
    "print(outList)"
   ]
  },
  {
   "cell_type": "markdown",
   "id": "57edb130-1586-453a-aab0-7d74299fedee",
   "metadata": {},
   "source": [
    "<div class=\"alert alert-info alert-success\">\n",
    "\n",
    "#### Time complexity: O(n) : where n is length of the input array. This is because we use a list comprehension to create a new list, and this operation takes O(n) time. The modulo operation % takes constant time, so it does not contribute to the overall time complexity.\n",
    "#### Auxiliary space: O(n) : we create a new list of the same length as the input array. This list is used to store the results of the computation, so it takes O(n) space in memory.\n",
    "</div>"
   ]
  },
  {
   "cell_type": "markdown",
   "id": "6360c8dc-8dec-4be9-9cb7-93dd006be105",
   "metadata": {},
   "source": [
    "<div class=\"alert alert-block alert-info\">\n",
    "\n",
    "# Method 4 - Slicing\n",
    "</div>"
   ]
  },
  {
   "cell_type": "code",
   "execution_count": 12,
   "id": "c323a017-e5e7-47d4-9f89-02cd8d3130d0",
   "metadata": {},
   "outputs": [],
   "source": [
    "def splitArr(arr,splitPos):\n",
    "    return arr[splitPos:]+arr[:splitPos]"
   ]
  },
  {
   "cell_type": "code",
   "execution_count": 15,
   "id": "ff677225-af53-4592-9335-f5867cb2acdc",
   "metadata": {},
   "outputs": [
    {
     "data": {
      "text/plain": [
       "[8, 9, 5, 6, 7]"
      ]
     },
     "execution_count": 15,
     "metadata": {},
     "output_type": "execute_result"
    }
   ],
   "source": [
    "splitArr([5,6,7,8,9],3)"
   ]
  },
  {
   "cell_type": "code",
   "execution_count": null,
   "id": "d7b2201d-67e0-4691-a91a-1519450e5b85",
   "metadata": {},
   "outputs": [],
   "source": []
  },
  {
   "cell_type": "code",
   "execution_count": null,
   "id": "19e0f1fa-04dd-4e58-8ee1-160fb0954e70",
   "metadata": {},
   "outputs": [],
   "source": []
  }
 ],
 "metadata": {
  "kernelspec": {
   "display_name": "Python 3 (ipykernel)",
   "language": "python",
   "name": "python3"
  },
  "language_info": {
   "codemirror_mode": {
    "name": "ipython",
    "version": 3
   },
   "file_extension": ".py",
   "mimetype": "text/x-python",
   "name": "python",
   "nbconvert_exporter": "python",
   "pygments_lexer": "ipython3",
   "version": "3.10.15"
  }
 },
 "nbformat": 4,
 "nbformat_minor": 5
}
