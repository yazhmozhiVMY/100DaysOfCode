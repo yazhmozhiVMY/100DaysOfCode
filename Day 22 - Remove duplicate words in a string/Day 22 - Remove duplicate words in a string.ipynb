{
 "cells": [
  {
   "cell_type": "markdown",
   "id": "35a65d20-ee64-4fec-bb6b-3830b6947a75",
   "metadata": {},
   "source": [
    "<div class = \"alert alert-block alert-info\">\n",
    "\n",
    "# Method 1 - Brute force\n",
    "</div>"
   ]
  },
  {
   "cell_type": "code",
   "execution_count": 1,
   "id": "da3af9f9-499c-42f4-bf3f-816f970f710c",
   "metadata": {},
   "outputs": [],
   "source": [
    "inputString1 = \"Yazh Tamil Yazh Python\" # 1 duplicate \n",
    "inputString2 = \"Yazh Tamil Yazh Python Tamil\" # 2 duplicates\n",
    "inputString3 = \"Simone de beauvoir is a radical feminist\" # no duplicates"
   ]
  },
  {
   "cell_type": "code",
   "execution_count": 2,
   "id": "d253b343-9ead-49a1-a6b2-65228a95e412",
   "metadata": {},
   "outputs": [],
   "source": [
    "def removeDuplicates1(inputString):\n",
    "    wordList = inputString.split()\n",
    "    outList = []\n",
    "    for word in wordList:\n",
    "        if word not in outList:\n",
    "            outList.append(word)\n",
    "    return \" \".join(outList)"
   ]
  },
  {
   "cell_type": "code",
   "execution_count": 3,
   "id": "fc32543b-513d-48b3-9ff0-fc309ad8e7c6",
   "metadata": {},
   "outputs": [
    {
     "name": "stdout",
     "output_type": "stream",
     "text": [
      "Yazh Tamil Python\n",
      "Yazh Tamil Python\n",
      "Simone de beauvoir is a radical feminist\n"
     ]
    }
   ],
   "source": [
    "print(removeDuplicates1(inputString1))\n",
    "print(removeDuplicates1(inputString2))\n",
    "print(removeDuplicates1(inputString3))"
   ]
  },
  {
   "cell_type": "markdown",
   "id": "bd500626-06c4-4a50-87bf-5ab0b962142c",
   "metadata": {},
   "source": [
    "<div class =\"alert alert-block alert-success\">\n",
    "\n",
    "#### Time complexity is O(n) where n is the number of words in 'inputString'\n",
    "#### Space complexity is O(n) [outList]\n",
    "</div>"
   ]
  },
  {
   "cell_type": "markdown",
   "id": "f4090f01-5854-4722-91e7-276097c56e92",
   "metadata": {},
   "source": [
    "<div class = \"alert alert-block alert-info\">\n",
    "\n",
    "# Method 2 - Using sets\n",
    "</div>"
   ]
  },
  {
   "cell_type": "code",
   "execution_count": 4,
   "id": "63fb3435-90e2-4afe-88c2-0f8acfaab213",
   "metadata": {},
   "outputs": [],
   "source": [
    "l = [\"hi\",\"hello\",\"hi\"]"
   ]
  },
  {
   "cell_type": "code",
   "execution_count": 5,
   "id": "55049100-1e9d-4248-bde9-ea46f498232b",
   "metadata": {},
   "outputs": [
    {
     "data": {
      "text/plain": [
       "{'hello', 'hi'}"
      ]
     },
     "execution_count": 5,
     "metadata": {},
     "output_type": "execute_result"
    }
   ],
   "source": [
    "set(l)"
   ]
  },
  {
   "cell_type": "code",
   "execution_count": 7,
   "id": "cdc9e40a-2532-4b3a-b099-06b270d245ae",
   "metadata": {},
   "outputs": [
    {
     "data": {
      "text/plain": [
       "'hi hello'"
      ]
     },
     "execution_count": 7,
     "metadata": {},
     "output_type": "execute_result"
    }
   ],
   "source": [
    "' '.join(set(l))"
   ]
  },
  {
   "cell_type": "code",
   "execution_count": 8,
   "id": "5c74daba-0b33-4bb1-8ecc-c24edeb15d23",
   "metadata": {},
   "outputs": [],
   "source": [
    "def removeDuplicates2(inputString):\n",
    "    wordList = inputString.split()\n",
    "    return ' '.join(set(wordList))"
   ]
  },
  {
   "cell_type": "code",
   "execution_count": 10,
   "id": "ff655f35-0694-41a4-a90e-e2f70cae80af",
   "metadata": {},
   "outputs": [
    {
     "name": "stdout",
     "output_type": "stream",
     "text": [
      "Python Tamil Yazh\n",
      "Python Tamil Yazh\n",
      "a beauvoir radical is feminist de Simone\n"
     ]
    }
   ],
   "source": [
    "print(removeDuplicates2(inputString1))\n",
    "print(removeDuplicates2(inputString2))\n",
    "print(removeDuplicates2(inputString3))"
   ]
  },
  {
   "cell_type": "markdown",
   "id": "771a4351-228e-4718-b8f6-805e52088c24",
   "metadata": {},
   "source": [
    "<div class=\"alert alert-block alert-warning\">\n",
    "\n",
    "#### the order of the words is not retained \n",
    "</div>"
   ]
  },
  {
   "cell_type": "code",
   "execution_count": 17,
   "id": "6f44aa19-79cf-40d9-98d7-856f24da8c79",
   "metadata": {},
   "outputs": [
    {
     "name": "stdout",
     "output_type": "stream",
     "text": [
      "Collecting ordered-set\n",
      "  Downloading ordered_set-4.1.0-py3-none-any.whl.metadata (5.3 kB)\n",
      "Downloading ordered_set-4.1.0-py3-none-any.whl (7.6 kB)\n",
      "Installing collected packages: ordered-set\n",
      "Successfully installed ordered-set-4.1.0\n"
     ]
    }
   ],
   "source": [
    "!pip install ordered-set"
   ]
  },
  {
   "cell_type": "code",
   "execution_count": 20,
   "id": "579921a3-62e9-43c1-b0f4-00662d209fe1",
   "metadata": {},
   "outputs": [],
   "source": [
    "from ordered_set import OrderedSet\n",
    "def removeDuplicates2_modified(inputString):\n",
    "    wordList = inputString.split()\n",
    "    return ' '.join(OrderedSet(wordList))"
   ]
  },
  {
   "cell_type": "code",
   "execution_count": 21,
   "id": "5c9418d3-c472-4620-b021-02756db47947",
   "metadata": {},
   "outputs": [
    {
     "name": "stdout",
     "output_type": "stream",
     "text": [
      "Yazh Tamil Python\n",
      "Yazh Tamil Python\n",
      "Simone de beauvoir is a radical feminist\n"
     ]
    }
   ],
   "source": [
    "print(removeDuplicates2_modified(inputString1))\n",
    "print(removeDuplicates2_modified(inputString2))\n",
    "print(removeDuplicates2_modified(inputString3))"
   ]
  },
  {
   "cell_type": "markdown",
   "id": "69cbda37-3234-46ef-a44e-4fb4e35ff6af",
   "metadata": {},
   "source": [
    "<div class =\"alert alert-block alert-success\">\n",
    "\n",
    "#### Time complexity is O(1) \n",
    "#### Space complexity is O(n) [ordered set]\n",
    "</div>"
   ]
  },
  {
   "cell_type": "markdown",
   "id": "79fc2d7c-74ef-4afa-a6c0-c8dcef33b573",
   "metadata": {},
   "source": [
    "<div class = \"alert alert-block alert-info\">\n",
    "\n",
    "# Method 3 - Using dictionary\n",
    "</div>"
   ]
  },
  {
   "cell_type": "code",
   "execution_count": 22,
   "id": "a85c5cd1-3155-423f-a893-c983ce110c4a",
   "metadata": {},
   "outputs": [
    {
     "data": {
      "text/plain": [
       "['hi', 'hello', 'hi']"
      ]
     },
     "execution_count": 22,
     "metadata": {},
     "output_type": "execute_result"
    }
   ],
   "source": [
    "l"
   ]
  },
  {
   "cell_type": "code",
   "execution_count": 23,
   "id": "bbfe8c8a-5d9f-42dd-a092-1c40407c4f15",
   "metadata": {},
   "outputs": [
    {
     "data": {
      "text/plain": [
       "{'hi': None, 'hello': None}"
      ]
     },
     "execution_count": 23,
     "metadata": {},
     "output_type": "execute_result"
    }
   ],
   "source": [
    "dict.fromkeys(l)"
   ]
  },
  {
   "cell_type": "code",
   "execution_count": 25,
   "id": "c452c231-46ab-4a39-a5cd-8a6b85cd624c",
   "metadata": {},
   "outputs": [
    {
     "data": {
      "text/plain": [
       "'hi hello'"
      ]
     },
     "execution_count": 25,
     "metadata": {},
     "output_type": "execute_result"
    }
   ],
   "source": [
    "' '.join(dict.fromkeys(l))"
   ]
  },
  {
   "cell_type": "code",
   "execution_count": 26,
   "id": "9d22a79f-7ae7-422f-b61c-a753d7a3cd28",
   "metadata": {},
   "outputs": [],
   "source": [
    "def removeDuplicates3(inputString):\n",
    "    wordList = inputString.split()\n",
    "    return \" \".join(dict.fromkeys(wordList))"
   ]
  },
  {
   "cell_type": "code",
   "execution_count": 27,
   "id": "58cee277-1fd9-4b10-a2c1-b9cb69160318",
   "metadata": {},
   "outputs": [
    {
     "name": "stdout",
     "output_type": "stream",
     "text": [
      "Yazh Tamil Python\n",
      "Yazh Tamil Python\n",
      "Simone de beauvoir is a radical feminist\n"
     ]
    }
   ],
   "source": [
    "print(removeDuplicates3(inputString1))\n",
    "print(removeDuplicates3(inputString2))\n",
    "print(removeDuplicates3(inputString3))"
   ]
  },
  {
   "cell_type": "markdown",
   "id": "47604139-0855-462c-ab70-5f04f0786a50",
   "metadata": {},
   "source": [
    "<div class =\"alert alert-block alert-success\">\n",
    "\n",
    "#### Time complexity is O(1) \n",
    "#### Space complexity is O(n) [space occupied by the dictionary and n - the n]\n",
    "</div>"
   ]
  }
 ],
 "metadata": {
  "kernelspec": {
   "display_name": "Python 3 (ipykernel)",
   "language": "python",
   "name": "python3"
  },
  "language_info": {
   "codemirror_mode": {
    "name": "ipython",
    "version": 3
   },
   "file_extension": ".py",
   "mimetype": "text/x-python",
   "name": "python",
   "nbconvert_exporter": "python",
   "pygments_lexer": "ipython3",
   "version": "3.10.15"
  }
 },
 "nbformat": 4,
 "nbformat_minor": 5
}
