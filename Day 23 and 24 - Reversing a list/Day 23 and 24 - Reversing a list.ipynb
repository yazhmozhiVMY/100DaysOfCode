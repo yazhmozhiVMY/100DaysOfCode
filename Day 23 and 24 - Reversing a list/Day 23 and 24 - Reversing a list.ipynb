{
 "cells": [
  {
   "cell_type": "markdown",
   "id": "84757503-4df2-4fe7-8f82-6f5bf13ca107",
   "metadata": {},
   "source": [
    "<div class=\"alert alert-block alert-info\">\n",
    "\n",
    "# Methods 1 and 2 (Using built-in methods)\n",
    "</div>"
   ]
  },
  {
   "cell_type": "code",
   "execution_count": 18,
   "id": "de031bad-a2d4-4971-ad9e-6c478551785a",
   "metadata": {},
   "outputs": [],
   "source": [
    "inputList1 =[1,2,3,4,5]\n",
    "inputList2 = ['a','b','c','d']\n",
    "inputList3 = [\"Tom\",1,\"Jerry\"]"
   ]
  },
  {
   "cell_type": "code",
   "execution_count": 12,
   "id": "6430fc63-b7f0-4f94-ba33-0d052e36236e",
   "metadata": {},
   "outputs": [],
   "source": [
    "def method1(inpList):\n",
    "    inpList.reverse()\n",
    "    return inpList"
   ]
  },
  {
   "cell_type": "code",
   "execution_count": 13,
   "id": "63aab4bf-002d-48d6-8db4-e7d713cfb254",
   "metadata": {},
   "outputs": [
    {
     "name": "stdout",
     "output_type": "stream",
     "text": [
      "[5, 4, 3, 2, 1]\n",
      "['d', 'c', 'b', 'a']\n",
      "['Jerry', 1, 'Tom']\n"
     ]
    }
   ],
   "source": [
    "print(method1(inputList1))\n",
    "print(method1(inputList2))\n",
    "print(method1(inputList3))"
   ]
  },
  {
   "cell_type": "markdown",
   "id": "8d3927cb-156c-4971-91e8-be6f77060836",
   "metadata": {},
   "source": [
    "<div class=\"alert alert-block alert-success\">\n",
    "\n",
    "#### Time complexity is O(1) or time required by the reverse method\n",
    "#### Space complexity is O(1) \n",
    "</div>"
   ]
  },
  {
   "cell_type": "markdown",
   "id": "5a5802f3-eb6d-437f-9e55-dabcb10eb633",
   "metadata": {},
   "source": [
    "### Method 2"
   ]
  },
  {
   "cell_type": "code",
   "execution_count": 15,
   "id": "cf07ac25-d307-4f30-9c65-cbb54f85e603",
   "metadata": {},
   "outputs": [
    {
     "data": {
      "text/plain": [
       "<list_reverseiterator at 0x25ede9e59c0>"
      ]
     },
     "execution_count": 15,
     "metadata": {},
     "output_type": "execute_result"
    }
   ],
   "source": [
    "reversed(inputList1)"
   ]
  },
  {
   "cell_type": "code",
   "execution_count": 16,
   "id": "d17dbd12-3d70-41eb-a5a8-7392fc29ffc3",
   "metadata": {},
   "outputs": [
    {
     "data": {
      "text/plain": [
       "[5, 4, 3, 2, 1]"
      ]
     },
     "execution_count": 16,
     "metadata": {},
     "output_type": "execute_result"
    }
   ],
   "source": [
    "list(reversed(inputList1))"
   ]
  },
  {
   "cell_type": "code",
   "execution_count": 17,
   "id": "fb6f219c-4a0a-49af-b1a0-eb2632872650",
   "metadata": {},
   "outputs": [],
   "source": [
    "def method2(inpList):\n",
    "    return list(reversed(inpList))"
   ]
  },
  {
   "cell_type": "code",
   "execution_count": 19,
   "id": "f47bcf2d-ee59-49a2-9cda-47ec5cfc1027",
   "metadata": {},
   "outputs": [
    {
     "name": "stdout",
     "output_type": "stream",
     "text": [
      "[5, 4, 3, 2, 1]\n",
      "['d', 'c', 'b', 'a']\n",
      "['Jerry', 1, 'Tom']\n"
     ]
    }
   ],
   "source": [
    "print(method2(inputList1))\n",
    "print(method2(inputList2))\n",
    "print(method2(inputList3))"
   ]
  },
  {
   "cell_type": "markdown",
   "id": "0048cdef-6e42-4fe3-8b63-cf6e14c07f32",
   "metadata": {},
   "source": [
    "<div class=\"alert alert-block alert-success\">\n",
    "\n",
    "#### Time complexity is O(1) or time required by reversed method\n",
    "#### Space complexity is O(n) [to store the reversed list] \n",
    "</div>"
   ]
  },
  {
   "cell_type": "markdown",
   "id": "ef007989-e552-4620-bdd7-db0f99565f9b",
   "metadata": {},
   "source": [
    "<div class=\"alert alert-block alert-info\">\n",
    "\n",
    "# Method 3 (List slicing)\n",
    "</div>"
   ]
  },
  {
   "cell_type": "code",
   "execution_count": 38,
   "id": "bb78be9d-15ee-45d5-9873-8ad9adbd122d",
   "metadata": {},
   "outputs": [],
   "source": [
    "inputList1 =[1,2,3,4,5]\n",
    "inputList2 = ['a','b','c','d']\n",
    "inputList3 = [\"Tom\",1,\"Jerry\"]"
   ]
  },
  {
   "cell_type": "code",
   "execution_count": 22,
   "id": "86d9678c-e6cf-4eca-9804-8f3b27f9324c",
   "metadata": {},
   "outputs": [],
   "source": [
    "def method3(inpList):\n",
    "    return inpList[::-1] "
   ]
  },
  {
   "cell_type": "code",
   "execution_count": 23,
   "id": "635d4a79-f8f0-4388-aac7-38fd0e1b1317",
   "metadata": {},
   "outputs": [
    {
     "name": "stdout",
     "output_type": "stream",
     "text": [
      "[5, 4, 3, 2, 1]\n",
      "['d', 'c', 'b', 'a']\n",
      "['Jerry', 1, 'Tom']\n"
     ]
    }
   ],
   "source": [
    "print(method3(inputList1))\n",
    "print(method3(inputList2))\n",
    "print(method3(inputList3))"
   ]
  },
  {
   "cell_type": "markdown",
   "id": "9014974b-9f9d-459d-9a42-ccacee59d6d7",
   "metadata": {},
   "source": [
    "<div class=\"alert alert-block alert-success\">\n",
    "\n",
    "#### Time complexity is O(1) or time required for slicing\n",
    "#### Space complexity is O(1) \n",
    "</div>"
   ]
  },
  {
   "cell_type": "markdown",
   "id": "4f0ff228-e49c-4308-b66e-1883b9541041",
   "metadata": {},
   "source": [
    "<div class=\"alert alert-block alert-info\">\n",
    "\n",
    "# Methods 4 and 5 (Iterative)\n",
    "</div>"
   ]
  },
  {
   "cell_type": "code",
   "execution_count": 24,
   "id": "47698324-65cd-4a9b-a167-95a5610eaafb",
   "metadata": {},
   "outputs": [],
   "source": [
    "def method4(inpList):\n",
    "    outList = []\n",
    "    for i in inpList:\n",
    "        outList.insert(0,i)\n",
    "    return outList"
   ]
  },
  {
   "cell_type": "code",
   "execution_count": 25,
   "id": "c4f48ea4-0028-4597-b606-dc0ddca982ec",
   "metadata": {},
   "outputs": [
    {
     "name": "stdout",
     "output_type": "stream",
     "text": [
      "[5, 4, 3, 2, 1]\n",
      "['d', 'c', 'b', 'a']\n",
      "['Jerry', 1, 'Tom']\n"
     ]
    }
   ],
   "source": [
    "print(method4(inputList1))\n",
    "print(method4(inputList2))\n",
    "print(method4(inputList3))"
   ]
  },
  {
   "cell_type": "markdown",
   "id": "1d8df370-539d-4cfa-9531-0316efc6f626",
   "metadata": {},
   "source": [
    "<div class=\"alert alert-block alert-success\">\n",
    "\n",
    "#### Time complexity is O(n) n is number of items in the list\n",
    "#### Space complexity is O(n) [outList]\n",
    "</div>"
   ]
  },
  {
   "cell_type": "markdown",
   "id": "682dbd2a-7903-4aa3-8518-16441a5d2313",
   "metadata": {},
   "source": [
    "### Inplace iterative method (method 5)"
   ]
  },
  {
   "cell_type": "code",
   "execution_count": 32,
   "id": "35e12ac9-bcc0-494a-a827-389e1e584d4f",
   "metadata": {},
   "outputs": [],
   "source": [
    "def method5(inpList):\n",
    "    start,end = 0,len(inpList)-1\n",
    "    while start<end:\n",
    "        inpList[start], inpList[end] = inpList[end], inpList[start]\n",
    "        start+=1\n",
    "        end-=1\n",
    "    return inpList"
   ]
  },
  {
   "cell_type": "code",
   "execution_count": 33,
   "id": "cd39b480-8d9c-4b2b-ace6-4d06100782cd",
   "metadata": {},
   "outputs": [
    {
     "name": "stdout",
     "output_type": "stream",
     "text": [
      "[5, 4, 3, 2, 1]\n",
      "['d', 'c', 'b', 'a']\n",
      "['Jerry', 1, 'Tom']\n"
     ]
    }
   ],
   "source": [
    "print(method5(inputList1))\n",
    "print(method5(inputList2))\n",
    "print(method5(inputList3))"
   ]
  },
  {
   "cell_type": "markdown",
   "id": "0f32c0a1-ecb1-4b3c-9773-fc39270f4ba9",
   "metadata": {},
   "source": [
    "<div class=\"alert alert-block alert-success\">\n",
    "\n",
    "#### Time complexity is O(n) n is number of items in the list\n",
    "#### Space complexity is O(1)\n",
    "</div>"
   ]
  },
  {
   "cell_type": "markdown",
   "id": "3379023c-d423-4865-9418-1207fd20e764",
   "metadata": {},
   "source": [
    "<div class=\"alert alert-block alert-info\">\n",
    "\n",
    "# Method 6 (List comprehension)\n",
    "</div>"
   ]
  },
  {
   "cell_type": "code",
   "execution_count": 35,
   "id": "6607621b-21cf-40c0-8ed9-d7605787b385",
   "metadata": {},
   "outputs": [
    {
     "name": "stdout",
     "output_type": "stream",
     "text": [
      "3\n",
      "2\n",
      "1\n"
     ]
    }
   ],
   "source": [
    "a = [1,2,3]\n",
    "for i in range(len(a) - 1, -1, -1): \n",
    "    print(a[i])"
   ]
  },
  {
   "cell_type": "markdown",
   "id": "76f4afe8-56c9-4d91-995a-7b0af3cf74e8",
   "metadata": {},
   "source": [
    "#### len(a) - 1, -1, -1\n",
    "\n",
    "#### first 2 items len(a) - 1, -1\n",
    "is range of i - for the list 'a'- it is 2 to -1 \n",
    "\n",
    "#### the last -1 \n",
    "is the step value i.e for each iteration decrement by 1"
   ]
  },
  {
   "cell_type": "code",
   "execution_count": 41,
   "id": "86f7851d-1a2b-4899-9d9d-09e39534f1c1",
   "metadata": {},
   "outputs": [],
   "source": [
    "def method6(inpList):\n",
    "    outList = [inpList[i] for i in range(len(inpList)-1, -1, -1)]\n",
    "    return outList"
   ]
  },
  {
   "cell_type": "code",
   "execution_count": 42,
   "id": "a74d1547-0958-40ee-a502-3541abd40b7a",
   "metadata": {},
   "outputs": [
    {
     "name": "stdout",
     "output_type": "stream",
     "text": [
      "[5, 4, 3, 2, 1]\n",
      "['d', 'c', 'b', 'a']\n",
      "['Jerry', 1, 'Tom']\n"
     ]
    }
   ],
   "source": [
    "print(method6(inputList1))\n",
    "print(method6(inputList2))\n",
    "print(method6(inputList3))"
   ]
  },
  {
   "cell_type": "markdown",
   "id": "dbd6ab3c-199c-430d-a8c9-04543844bc87",
   "metadata": {},
   "source": [
    "<div class=\"alert alert-block alert-success\">\n",
    "\n",
    "#### Time complexity is O(n) n is number of items in the list\n",
    "#### Space complexity is O(n) [outList]\n",
    "</div>"
   ]
  },
  {
   "cell_type": "markdown",
   "id": "00208b3f-dd53-4425-a7e0-a35dfa561536",
   "metadata": {},
   "source": [
    "## Which Method to Choose?\n",
    "#### reverse(): \n",
    "Use for in-place modification when we don’t need the original list\n",
    "#### List Slicing ([::-1]): \n",
    "Use to quickly create a reversed copy without modifying the original list\n",
    "#### reversed(): \n",
    "Ideal for creating an iterator to reverse without modifying the original list and if we need an iterable for further operations.\n",
    "#### Loop (In-Place): \n",
    "Use for more control during in-place reversal and especially if additional conditions are involved.\n",
    "\n",
    "*Avoid* using list comprehensions or loops that create new lists because they are less efficient and more complex.\n",
    "\n",
    "### The reverse() method or list slicing ([::-1]) are generally recommended for their simplicity and efficiency.\n",
    "\n",
    "Reference \n",
    "https://www.geeksforgeeks.org/python-reversing-list/"
   ]
  }
 ],
 "metadata": {
  "kernelspec": {
   "display_name": "Python 3 (ipykernel)",
   "language": "python",
   "name": "python3"
  },
  "language_info": {
   "codemirror_mode": {
    "name": "ipython",
    "version": 3
   },
   "file_extension": ".py",
   "mimetype": "text/x-python",
   "name": "python",
   "nbconvert_exporter": "python",
   "pygments_lexer": "ipython3",
   "version": "3.10.15"
  }
 },
 "nbformat": 4,
 "nbformat_minor": 5
}
