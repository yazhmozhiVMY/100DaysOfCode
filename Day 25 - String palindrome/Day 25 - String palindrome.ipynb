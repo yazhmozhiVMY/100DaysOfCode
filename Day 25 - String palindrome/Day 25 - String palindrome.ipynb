{
 "cells": [
  {
   "cell_type": "markdown",
   "id": "cfb15c76-0fc4-4873-9797-fadb5479cc20",
   "metadata": {},
   "source": [
    "<div class=\"alert alert-block alert-info\">\n",
    "\n",
    "# Method 1 (slicing)\n",
    "</div>"
   ]
  },
  {
   "cell_type": "code",
   "execution_count": 1,
   "id": "a72adbd8-0845-44f2-901f-676345d10131",
   "metadata": {},
   "outputs": [],
   "source": [
    "def isPalindrome_slicing(inputStr):\n",
    "    return inputStr==inputStr[::-1]"
   ]
  },
  {
   "cell_type": "code",
   "execution_count": 3,
   "id": "254da8de-22b1-40db-a89a-09e5e01f41b1",
   "metadata": {},
   "outputs": [
    {
     "name": "stdout",
     "output_type": "stream",
     "text": [
      "True\n",
      "False\n"
     ]
    }
   ],
   "source": [
    "print(isPalindrome_slicing(\"madam\"))\n",
    "print(isPalindrome_slicing(\"hello\"))"
   ]
  },
  {
   "cell_type": "markdown",
   "id": "f22fc9b7-4fd5-40f8-b098-6324e3652879",
   "metadata": {},
   "source": [
    "<div class=\"alert alert-block alert-success\">\n",
    "\n",
    "#### Time complexity is O(n) where n is the length of the inputString\n",
    "#### Space complexity is O(1)\n",
    "</div>"
   ]
  },
  {
   "cell_type": "markdown",
   "id": "0280bfda-b9da-4670-ac51-038ef012374a",
   "metadata": {},
   "source": [
    "<div class=\"alert alert-block alert-info\">\n",
    "\n",
    "# Method 2 (iterative approach)\n",
    "</div>"
   ]
  },
  {
   "cell_type": "code",
   "execution_count": 4,
   "id": "e72cef25-270b-4e15-b66a-01bbc54f4bf6",
   "metadata": {},
   "outputs": [],
   "source": [
    "def isPalindrome_iterative(inputStr):\n",
    "    for i in range(int(len(inputStr)/2)):\n",
    "        if inputStr[i]!= inputStr[len(inputStr)-i-1]:\n",
    "            return False\n",
    "    return True"
   ]
  },
  {
   "cell_type": "code",
   "execution_count": 8,
   "id": "0f3b563f-fb17-4a07-8573-eb60e6b0cf2d",
   "metadata": {},
   "outputs": [
    {
     "name": "stdout",
     "output_type": "stream",
     "text": [
      "True\n",
      "False\n"
     ]
    }
   ],
   "source": [
    "print(isPalindrome_iterative(\"madam\"))\n",
    "print(isPalindrome_iterative(\"hello\"))"
   ]
  },
  {
   "cell_type": "markdown",
   "id": "5d4261fb-3c05-4916-9bed-4a1ece1884e7",
   "metadata": {},
   "source": [
    "<div class=\"alert alert-block alert-success\">\n",
    "\n",
    "#### Time complexity is O(n) where n is the length of the inputString\n",
    "#### Space complexity is O(1)\n",
    "</div>"
   ]
  },
  {
   "cell_type": "markdown",
   "id": "db636351-09f6-427a-97b1-e4b7d4ef66f4",
   "metadata": {},
   "source": [
    "<div class=\"alert alert-block alert-info\">\n",
    "\n",
    "# Method 3 (using built-in method reversed)\n",
    "</div>"
   ]
  },
  {
   "cell_type": "code",
   "execution_count": 9,
   "id": "aac78528-711c-45a7-8852-3429f32c4ae1",
   "metadata": {},
   "outputs": [],
   "source": [
    "name = \"Sylvia\""
   ]
  },
  {
   "cell_type": "code",
   "execution_count": 25,
   "id": "5f99eab3-a75e-451e-aa5f-2a5db36fde68",
   "metadata": {},
   "outputs": [
    {
     "data": {
      "text/plain": [
       "'sylvia'"
      ]
     },
     "execution_count": 25,
     "metadata": {},
     "output_type": "execute_result"
    }
   ],
   "source": [
    "name.lower()"
   ]
  },
  {
   "cell_type": "code",
   "execution_count": 26,
   "id": "f79d1c9d-b356-4dab-b55c-778e28706e24",
   "metadata": {},
   "outputs": [
    {
     "data": {
      "text/plain": [
       "'Sylvia'"
      ]
     },
     "execution_count": 26,
     "metadata": {},
     "output_type": "execute_result"
    }
   ],
   "source": [
    "name"
   ]
  },
  {
   "cell_type": "code",
   "execution_count": 12,
   "id": "b6d94cbe-a2ff-455b-8fff-c5534e07c480",
   "metadata": {},
   "outputs": [
    {
     "data": {
      "text/plain": [
       "<reversed at 0x25c20ceb7f0>"
      ]
     },
     "execution_count": 12,
     "metadata": {},
     "output_type": "execute_result"
    }
   ],
   "source": [
    "reversed(name)"
   ]
  },
  {
   "cell_type": "code",
   "execution_count": 13,
   "id": "55c49b5f-a1b3-422b-b03d-71b14a334860",
   "metadata": {},
   "outputs": [
    {
     "data": {
      "text/plain": [
       "'aivlyS'"
      ]
     },
     "execution_count": 13,
     "metadata": {},
     "output_type": "execute_result"
    }
   ],
   "source": [
    "''.join(reversed(name))"
   ]
  },
  {
   "cell_type": "code",
   "execution_count": 14,
   "id": "58c10300-20ab-47c7-b5e9-5be6903e1f37",
   "metadata": {},
   "outputs": [
    {
     "data": {
      "text/plain": [
       "'Sylvia'"
      ]
     },
     "execution_count": 14,
     "metadata": {},
     "output_type": "execute_result"
    }
   ],
   "source": [
    "name"
   ]
  },
  {
   "cell_type": "code",
   "execution_count": 31,
   "id": "c8fa6a78-dcf4-45f6-92b3-38b7c8071198",
   "metadata": {},
   "outputs": [],
   "source": [
    "def isPalindrome_rev(inputStr):\n",
    "    inputStr = inputStr.lower()\n",
    "    reverse = ''.join(reversed(inputStr))\n",
    "    return inputStr==reverse"
   ]
  },
  {
   "cell_type": "code",
   "execution_count": 32,
   "id": "f0c15e41-2fb4-4ff5-b4bb-33068ab28e91",
   "metadata": {},
   "outputs": [
    {
     "name": "stdout",
     "output_type": "stream",
     "text": [
      "True\n",
      "False\n"
     ]
    }
   ],
   "source": [
    "print(isPalindrome_rev(\"madam\"))\n",
    "print(isPalindrome_rev(\"hello\"))"
   ]
  },
  {
   "cell_type": "markdown",
   "id": "37ef386d-f363-4aa0-ada8-3a2dcb19c820",
   "metadata": {},
   "source": [
    "<div class=\"alert alert-block alert-success\">\n",
    "\n",
    "#### Time complexity is O(n) where n is the length of the inputString\n",
    "#### Space complexity is O(n) {space occupied by the reversed string}\n",
    "</div>"
   ]
  },
  {
   "cell_type": "markdown",
   "id": "ee80e552-d12e-462c-9e9f-1504df4ef5b5",
   "metadata": {},
   "source": [
    "<div class=\"alert alert-block alert-info\">\n",
    "\n",
    "# Method 4 (Iterative 2)\n",
    "</div>"
   ]
  },
  {
   "cell_type": "code",
   "execution_count": 29,
   "id": "275a735e-c6ba-4bd4-ac83-f93715a778e2",
   "metadata": {},
   "outputs": [],
   "source": [
    "def isPalindrome_iterative2(inputStr):\n",
    "    inputStr = inputStr.lower()\n",
    "    reversedStr = ''\n",
    "    for i in inputStr:\n",
    "        reversedStr = i+reversedStr\n",
    "    return inputStr==reversedStr"
   ]
  },
  {
   "cell_type": "code",
   "execution_count": 30,
   "id": "0f9cc66a-06e6-4d7c-9bff-ef8d8650ad53",
   "metadata": {},
   "outputs": [
    {
     "name": "stdout",
     "output_type": "stream",
     "text": [
      "True\n",
      "False\n"
     ]
    }
   ],
   "source": [
    "print(isPalindrome_iterative2(\"madam\"))\n",
    "print(isPalindrome_iterative2(\"hello\"))"
   ]
  },
  {
   "cell_type": "markdown",
   "id": "9d2cf8d6-ddd9-487d-be8f-65fe467ce3c7",
   "metadata": {},
   "source": [
    "<div class=\"alert alert-block alert-success\">\n",
    "\n",
    "#### Time complexity is O(n) where n is the length of the inputString\n",
    "#### Space complexity is O(n) {space occupied by the reversed string}\n",
    "</div>"
   ]
  },
  {
   "cell_type": "markdown",
   "id": "1a4ce6ca-c515-47bd-a161-2455840accae",
   "metadata": {},
   "source": [
    "<div class=\"alert alert-block alert-info\">\n",
    "\n",
    "# Method 5 (Recursive)\n",
    "</div>"
   ]
  },
  {
   "cell_type": "code",
   "execution_count": 27,
   "id": "c86829e4-bddf-4dfd-a997-6fc213c480de",
   "metadata": {},
   "outputs": [],
   "source": [
    "def isPalindrome_recursive(inputStr):\n",
    "    inputStr = inputStr.lower()\n",
    "    l = len(inputStr)\n",
    "    if l<2:\n",
    "        return True\n",
    "    elif inputStr[0]==inputStr[l-1]:\n",
    "        return isPalindrome_recursive(inputStr[1:l-1])\n",
    "    else:\n",
    "        return False"
   ]
  },
  {
   "cell_type": "code",
   "execution_count": 28,
   "id": "40eaa0ab-07a1-405f-b57d-6ffd90094cb4",
   "metadata": {},
   "outputs": [
    {
     "name": "stdout",
     "output_type": "stream",
     "text": [
      "True\n",
      "False\n"
     ]
    }
   ],
   "source": [
    "print(isPalindrome_recursive(\"malayalam\"))\n",
    "print(isPalindrome_recursive(\"hello\"))"
   ]
  },
  {
   "cell_type": "markdown",
   "id": "3d7046e0-0098-4c4b-b42c-d1a4c9b876e3",
   "metadata": {},
   "source": [
    "<div class=\"alert alert-block alert-success\">\n",
    "\n",
    "#### Time complexity is O(n) where n is the length of the inputString\n",
    "#### Space complexity is O(n) \n",
    "</div>"
   ]
  },
  {
   "cell_type": "code",
   "execution_count": null,
   "id": "2b103794-d182-4650-a736-b50363201a4c",
   "metadata": {},
   "outputs": [],
   "source": []
  }
 ],
 "metadata": {
  "kernelspec": {
   "display_name": "Python 3 (ipykernel)",
   "language": "python",
   "name": "python3"
  },
  "language_info": {
   "codemirror_mode": {
    "name": "ipython",
    "version": 3
   },
   "file_extension": ".py",
   "mimetype": "text/x-python",
   "name": "python",
   "nbconvert_exporter": "python",
   "pygments_lexer": "ipython3",
   "version": "3.10.15"
  }
 },
 "nbformat": 4,
 "nbformat_minor": 5
}
