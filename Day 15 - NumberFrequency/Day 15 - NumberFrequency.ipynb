{
 "cells": [
  {
   "cell_type": "code",
   "execution_count": 3,
   "id": "08c09dab-6870-4948-8bba-91e46e03b24e",
   "metadata": {},
   "outputs": [],
   "source": [
    "def count_freq(numbers):\n",
    "    freqDict = {}\n",
    "    for num in numbers:\n",
    "        if num in freqDict:\n",
    "            freqDict[num] += 1\n",
    "        else:\n",
    "            freqDict[num] = 1\n",
    "    return freqDict"
   ]
  },
  {
   "cell_type": "code",
   "execution_count": 5,
   "id": "5908e451-36c6-4642-aac5-488598cb46e1",
   "metadata": {},
   "outputs": [
    {
     "data": {
      "text/plain": [
       "{1: 4, 2: 3, -7: 2, 9: 1}"
      ]
     },
     "execution_count": 5,
     "metadata": {},
     "output_type": "execute_result"
    }
   ],
   "source": [
    "num_list1 = [1,2,1,-7,9,1,2,-7,1,2]\n",
    "count_freq(num_list1)"
   ]
  },
  {
   "cell_type": "markdown",
   "id": "667c8900-24be-4336-adf4-a472fea453d6",
   "metadata": {},
   "source": [
    "<div class=\"alert alert-block alert-success\">\n",
    "\n",
    "## Time complexity\n",
    "O(n); n - number of elements in the list\n",
    "## Space complexity \n",
    "O(n) n - number of elements in the list\n",
    "\n",
    "</div>"
   ]
  },
  {
   "cell_type": "code",
   "execution_count": null,
   "id": "7fb33836-27c7-40df-b97e-a8b5a6820bba",
   "metadata": {},
   "outputs": [],
   "source": []
  },
  {
   "cell_type": "code",
   "execution_count": null,
   "id": "2b7ac6b9-4517-43fd-9849-3e43f08476a8",
   "metadata": {},
   "outputs": [],
   "source": []
  }
 ],
 "metadata": {
  "kernelspec": {
   "display_name": "Python 3 (ipykernel)",
   "language": "python",
   "name": "python3"
  },
  "language_info": {
   "codemirror_mode": {
    "name": "ipython",
    "version": 3
   },
   "file_extension": ".py",
   "mimetype": "text/x-python",
   "name": "python",
   "nbconvert_exporter": "python",
   "pygments_lexer": "ipython3",
   "version": "3.10.15"
  }
 },
 "nbformat": 4,
 "nbformat_minor": 5
}
