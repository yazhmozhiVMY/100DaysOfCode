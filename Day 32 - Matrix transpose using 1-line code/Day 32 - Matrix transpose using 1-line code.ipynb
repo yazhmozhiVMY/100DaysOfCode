{
 "cells": [
  {
   "cell_type": "markdown",
   "id": "f1eadefd-e716-46aa-b382-db1db91197b7",
   "metadata": {},
   "source": [
    "<div class=\"alert alert-block alert-info\">\n",
    "\n",
    "# Method 1 - List comprehension\n",
    "</div>"
   ]
  },
  {
   "cell_type": "code",
   "execution_count": 9,
   "id": "33c6f9f5-dc7e-481c-9d25-0a232e2be732",
   "metadata": {},
   "outputs": [
    {
     "name": "stdout",
     "output_type": "stream",
     "text": [
      "[1, 2, 3]\n",
      "[4, 5, 6]\n",
      "[7, 8, 9]\n",
      "[10, 11, 12]\n",
      "TRANSPOSE OF THE MATRIX\n",
      "[1, 4, 7, 10]\n",
      "[2, 5, 8, 11]\n",
      "[3, 6, 9, 12]\n"
     ]
    }
   ],
   "source": [
    "inputMatrix = [[1,2,3],[4,5,6],[7,8,9],[10,11,12]]\n",
    "for row in inputMatrix:\n",
    "    print(row)\n",
    "result = [[inputMatrix[j][i] for j in range(len(inputMatrix))] for i in range(len(inputMatrix[0]))] #1 line code\n",
    "print(\"TRANSPOSE OF THE MATRIX\")\n",
    "for r in result:\n",
    "    print(r)"
   ]
  },
  {
   "cell_type": "markdown",
   "id": "a3f2496d-a9d0-4e39-a356-629aac362ed3",
   "metadata": {},
   "source": [
    "<div class=\"alert alert-block alert-info\">\n",
    "\n",
    "# Method 2 - Using zip \n",
    "</div>"
   ]
  },
  {
   "cell_type": "code",
   "execution_count": 11,
   "id": "91e53ff0-544b-4bf3-b0ae-e7d31b9ce06f",
   "metadata": {},
   "outputs": [
    {
     "name": "stdout",
     "output_type": "stream",
     "text": [
      "[1, 2, 3]\n",
      "[4, 5, 6]\n",
      "[7, 8, 9]\n",
      "[10, 11, 12]\n",
      "TRANSPOSE OF THE MATRIX\n",
      "(1, 4, 7, 10)\n",
      "(2, 5, 8, 11)\n",
      "(3, 6, 9, 12)\n"
     ]
    }
   ],
   "source": [
    "inputMatrix = [[1,2,3],[4,5,6],[7,8,9],[10,11,12]]\n",
    "for row in inputMatrix:\n",
    "    print(row)\n",
    "result = zip(*inputMatrix) #1 line code\n",
    "print(\"TRANSPOSE OF THE MATRIX\")\n",
    "for r in result:\n",
    "    print(r)"
   ]
  },
  {
   "cell_type": "markdown",
   "id": "97592aa7-a0dd-479c-805b-5b462707b078",
   "metadata": {},
   "source": [
    "<div class=\"alert alert-block alert-info\">\n",
    "\n",
    "# Method 3 - Using numpy\n",
    "</div>"
   ]
  },
  {
   "cell_type": "code",
   "execution_count": 12,
   "id": "591494e4-5a54-41d1-b713-293d6a885711",
   "metadata": {},
   "outputs": [
    {
     "name": "stdout",
     "output_type": "stream",
     "text": [
      "[1, 2, 3]\n",
      "[4, 5, 6]\n",
      "[7, 8, 9]\n",
      "[10, 11, 12]\n",
      "[ 1  4  7 10]\n",
      "[ 2  5  8 11]\n",
      "[ 3  6  9 12]\n"
     ]
    }
   ],
   "source": [
    "import numpy as np\n",
    "inputMatrix = [[1,2,3],[4,5,6],[7,8,9],[10,11,12]]\n",
    "for row in inputMatrix:\n",
    "    print(row)\n",
    "result = np.transpose(inputMatrix)\n",
    "for r in result:\n",
    "    print(r)"
   ]
  },
  {
   "cell_type": "code",
   "execution_count": 19,
   "id": "add7b1e9-aad6-4c87-b504-b0a3197d2278",
   "metadata": {},
   "outputs": [],
   "source": [
    "from itertools import chain\n",
    "L = chain(*inputMatrix)\n",
    "n = len(inputMatrix[0])"
   ]
  },
  {
   "cell_type": "code",
   "execution_count": 21,
   "id": "633d51f4-d36a-4a0e-a5e0-b2a412ab8fcc",
   "metadata": {},
   "outputs": [
    {
     "ename": "TypeError",
     "evalue": "'itertools.chain' object is not subscriptable",
     "output_type": "error",
     "traceback": [
      "\u001b[1;31m---------------------------------------------------------------------------\u001b[0m",
      "\u001b[1;31mTypeError\u001b[0m                                 Traceback (most recent call last)",
      "Cell \u001b[1;32mIn[21], line 1\u001b[0m\n\u001b[1;32m----> 1\u001b[0m result \u001b[38;5;241m=\u001b[39m [L[i::n] \u001b[38;5;28;01mfor\u001b[39;00m i \u001b[38;5;129;01min\u001b[39;00m \u001b[38;5;28mrange\u001b[39m(n)]\n",
      "Cell \u001b[1;32mIn[21], line 1\u001b[0m, in \u001b[0;36m<listcomp>\u001b[1;34m(.0)\u001b[0m\n\u001b[1;32m----> 1\u001b[0m result \u001b[38;5;241m=\u001b[39m [\u001b[43mL\u001b[49m\u001b[43m[\u001b[49m\u001b[43mi\u001b[49m\u001b[43m:\u001b[49m\u001b[43m:\u001b[49m\u001b[43mn\u001b[49m\u001b[43m]\u001b[49m \u001b[38;5;28;01mfor\u001b[39;00m i \u001b[38;5;129;01min\u001b[39;00m \u001b[38;5;28mrange\u001b[39m(n)]\n",
      "\u001b[1;31mTypeError\u001b[0m: 'itertools.chain' object is not subscriptable"
     ]
    }
   ],
   "source": [
    "result = [L[i::n] for i in range(n)]"
   ]
  },
  {
   "cell_type": "code",
   "execution_count": null,
   "id": "c1cb6dde-315c-4ed5-bb22-356904bb6175",
   "metadata": {},
   "outputs": [],
   "source": []
  }
 ],
 "metadata": {
  "kernelspec": {
   "display_name": "Python 3 (ipykernel)",
   "language": "python",
   "name": "python3"
  },
  "language_info": {
   "codemirror_mode": {
    "name": "ipython",
    "version": 3
   },
   "file_extension": ".py",
   "mimetype": "text/x-python",
   "name": "python",
   "nbconvert_exporter": "python",
   "pygments_lexer": "ipython3",
   "version": "3.10.15"
  }
 },
 "nbformat": 4,
 "nbformat_minor": 5
}
