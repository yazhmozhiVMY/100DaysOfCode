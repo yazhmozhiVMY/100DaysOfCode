{
 "cells": [
  {
   "cell_type": "markdown",
   "id": "5327b774-1ddb-4ecd-b6b1-24408c73b54d",
   "metadata": {},
   "source": [
    "# Method 1 - using itertools "
   ]
  },
  {
   "cell_type": "code",
   "execution_count": 3,
   "id": "685a8f07-8fd5-4704-9f82-2fbcf5225b39",
   "metadata": {},
   "outputs": [
    {
     "name": "stdout",
     "output_type": "stream",
     "text": [
      "[10, 30, 0]\n"
     ]
    }
   ],
   "source": [
    "import itertools\n",
    "numList = [10,20,-30]\n",
    "print(list(itertools.accumulate(numList)))"
   ]
  },
  {
   "cell_type": "markdown",
   "id": "79fd6599-fe05-467b-8660-bb27dfe7bb8c",
   "metadata": {},
   "source": [
    "# Method 2 - using numpy "
   ]
  },
  {
   "cell_type": "code",
   "execution_count": 4,
   "id": "f84201d3-8dbc-4159-b922-e338597fdc95",
   "metadata": {},
   "outputs": [
    {
     "name": "stdout",
     "output_type": "stream",
     "text": [
      "[10 30  0]\n"
     ]
    }
   ],
   "source": [
    "import numpy as np\n",
    "print(np.cumsum(numList))"
   ]
  },
  {
   "cell_type": "markdown",
   "id": "9d5535fb-d7a9-436c-82b4-8b94f5782d0a",
   "metadata": {},
   "source": [
    "# Method 3 - Loops"
   ]
  },
  {
   "cell_type": "code",
   "execution_count": 5,
   "id": "aaa6f13b-94ba-4aaa-baf2-d9241db0185e",
   "metadata": {},
   "outputs": [
    {
     "name": "stdout",
     "output_type": "stream",
     "text": [
      "[10, 30, 0]\n"
     ]
    }
   ],
   "source": [
    "outList = []\n",
    "cumSum = 0\n",
    "for num in numList:\n",
    "    cumSum+=num\n",
    "    outList.append(cumSum)\n",
    "print(outList)    "
   ]
  },
  {
   "cell_type": "markdown",
   "id": "e9da9e97-da7a-4f3f-beba-289b1836b528",
   "metadata": {},
   "source": [
    "# Method 4 - List comprehension"
   ]
  },
  {
   "cell_type": "code",
   "execution_count": 10,
   "id": "19861118-e541-4532-a0cc-6fe375c4cf25",
   "metadata": {},
   "outputs": [
    {
     "data": {
      "text/plain": [
       "0"
      ]
     },
     "execution_count": 10,
     "metadata": {},
     "output_type": "execute_result"
    }
   ],
   "source": [
    "sum(numList[0:3])"
   ]
  },
  {
   "cell_type": "code",
   "execution_count": 11,
   "id": "589b839b-b2c9-4af2-94ad-60e88656bf2b",
   "metadata": {},
   "outputs": [
    {
     "data": {
      "text/plain": [
       "30"
      ]
     },
     "execution_count": 11,
     "metadata": {},
     "output_type": "execute_result"
    }
   ],
   "source": [
    "sum(numList[0:2])"
   ]
  },
  {
   "cell_type": "code",
   "execution_count": 14,
   "id": "c0602bb6-410c-42ea-91f5-d7b939d6fbfb",
   "metadata": {},
   "outputs": [],
   "source": [
    "outputList = [sum(numList[0:i+1]) for i in range(len(numList))]"
   ]
  },
  {
   "cell_type": "code",
   "execution_count": 15,
   "id": "e537de77-b86d-41e9-96b4-f14bbdfb1aea",
   "metadata": {},
   "outputs": [
    {
     "data": {
      "text/plain": [
       "[10, 30, 0]"
      ]
     },
     "execution_count": 15,
     "metadata": {},
     "output_type": "execute_result"
    }
   ],
   "source": [
    "outputList"
   ]
  },
  {
   "cell_type": "markdown",
   "id": "43201dfc-dcdf-4686-9f4a-c3ea2d2df708",
   "metadata": {},
   "source": [
    "# Method 5 - Using generators"
   ]
  },
  {
   "cell_type": "code",
   "execution_count": 16,
   "id": "1eb863ec-cc80-4b50-babc-337b73cc4620",
   "metadata": {},
   "outputs": [],
   "source": [
    "def generateCumulativeSum(inputList):\n",
    "    sum=0\n",
    "    for i in inputList:\n",
    "        total+=i\n",
    "        yield total"
   ]
  },
  {
   "cell_type": "code",
   "execution_count": null,
   "id": "1782924d-1204-4f2c-bebd-9581c9003650",
   "metadata": {},
   "outputs": [],
   "source": [
    "list(generateCumulativeSum("
   ]
  }
 ],
 "metadata": {
  "kernelspec": {
   "display_name": "Python 3 (ipykernel)",
   "language": "python",
   "name": "python3"
  },
  "language_info": {
   "codemirror_mode": {
    "name": "ipython",
    "version": 3
   },
   "file_extension": ".py",
   "mimetype": "text/x-python",
   "name": "python",
   "nbconvert_exporter": "python",
   "pygments_lexer": "ipython3",
   "version": "3.10.15"
  }
 },
 "nbformat": 4,
 "nbformat_minor": 5
}
