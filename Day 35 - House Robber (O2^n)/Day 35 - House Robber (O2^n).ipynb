{
 "cells": [
  {
   "cell_type": "markdown",
   "id": "bdb77acc-f5c1-48db-8fa4-40038b224df2",
   "metadata": {},
   "source": [
    "## House Robber - Maximum possible stolen value\n",
    "There are n houses built in a line, each of which contains some money in it. A robber wants to steal money from these houses, but he can’t steal from two adjacent houses. The task is to find the maximum amount of money which can be stolen.\n",
    "\n",
    "#### Examples: \n",
    "\n",
    "Input: a[] = {6, 7, 1, 3, 8, 2, 4}\n",
    "Output: 19\n",
    "Explanation: The thief will steal from house 1, 3, 5 and 7, total money = 6 + 1 + 8 + 4 = 19.\n",
    "\n",
    "Input: a[] = {5, 3, 4, 11, 2}\n",
    "Output: 16\n",
    "Explanation: Thief will steal from house 1 and 4, total money = 5 + 11 = 16."
   ]
  },
  {
   "cell_type": "markdown",
   "id": "2cb6022f-4bd1-4014-b10d-caf8ef3c54e8",
   "metadata": {},
   "source": [
    "## Naive Approach [Using Recursion]- O(2^n) Time and O(n) Space\n",
    "The idea is to explore all the possibilities for each house using Recursion. We can start from the last house and for each house, we have two choices:\n",
    "\n",
    "1. Rob the current house and skip the house just before it.\n",
    "2. Skip the current house and move to the next house.\n",
    "\n",
    "So, the recurrence relation will be: \n",
    "mL(n) = max(a[n - 1] + mL(n - 2), mL(n - 1)), \n",
    "where mL(n) returns the maximum amount of money which can be stolen if n houses are left."
   ]
  },
  {
   "cell_type": "code",
   "execution_count": 3,
   "id": "e39f1cf8-d5a1-434b-8392-51c5a6ce37d8",
   "metadata": {},
   "outputs": [],
   "source": [
    "def mL(a,n):\n",
    "    if n==1:\n",
    "        return a[0]\n",
    "    elif n<=0:\n",
    "        return 0\n",
    "    else:\n",
    "        pick = a[n-1]+mL(a,n-2)\n",
    "        notPick = mL(a,n-1)\n",
    "        return max(pick,notPick)"
   ]
  },
  {
   "cell_type": "code",
   "execution_count": 4,
   "id": "6d5e0db5-5805-4140-bdfa-c30a729ed553",
   "metadata": {},
   "outputs": [
    {
     "data": {
      "text/plain": [
       "15"
      ]
     },
     "execution_count": 4,
     "metadata": {},
     "output_type": "execute_result"
    }
   ],
   "source": [
    "a=[6,7,1,3,8]\n",
    "mL(a,len(a))"
   ]
  },
  {
   "cell_type": "code",
   "execution_count": 5,
   "id": "6eda6697-4ad1-4fb5-afc6-6374800be0a8",
   "metadata": {},
   "outputs": [
    {
     "data": {
      "text/plain": [
       "19"
      ]
     },
     "execution_count": 5,
     "metadata": {},
     "output_type": "execute_result"
    }
   ],
   "source": [
    "b=[6, 7, 1, 3, 8, 2, 4]\n",
    "mL(b,len(b))"
   ]
  },
  {
   "cell_type": "code",
   "execution_count": null,
   "id": "3103e494-5614-4523-bc24-67280729a5b8",
   "metadata": {},
   "outputs": [],
   "source": []
  },
  {
   "cell_type": "markdown",
   "id": "ba2c2480-8e0a-478c-a91b-2b22d063115c",
   "metadata": {},
   "source": [
    "<div class=\"alert alert-block alert-info\">\n",
    "\n",
    "#### Time complexity \n",
    "O(2^n). Every house has 2 choices to pick and not pick.\n",
    "#### Space complexity\n",
    "O(n) Recursion stack space\n",
    "</div>"
   ]
  },
  {
   "cell_type": "markdown",
   "id": "d3941c69-a1c4-4da4-83da-97e83dc3e6f5",
   "metadata": {},
   "source": [
    "Lets improve it tomorrow\n",
    "#### Reference \n",
    "https://www.geeksforgeeks.org/dsa/find-maximum-possible-stolen-value-houses/"
   ]
  }
 ],
 "metadata": {
  "kernelspec": {
   "display_name": "Python 3 (ipykernel)",
   "language": "python",
   "name": "python3"
  },
  "language_info": {
   "codemirror_mode": {
    "name": "ipython",
    "version": 3
   },
   "file_extension": ".py",
   "mimetype": "text/x-python",
   "name": "python",
   "nbconvert_exporter": "python",
   "pygments_lexer": "ipython3",
   "version": "3.10.15"
  }
 },
 "nbformat": 4,
 "nbformat_minor": 5
}
