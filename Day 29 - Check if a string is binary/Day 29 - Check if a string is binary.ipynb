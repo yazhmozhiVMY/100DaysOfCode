{
 "cells": [
  {
   "cell_type": "markdown",
   "id": "17449fd9-9e93-426a-9236-04e3d4514efc",
   "metadata": {},
   "source": [
    "# Check if a given string is binary string or not\n",
    "For **example**, the string “101010” is a valid binary string, while “10201” is not, since it contains a character other than ‘0’ or ‘1’."
   ]
  },
  {
   "cell_type": "markdown",
   "id": "a89cb2ce-4d99-4bf0-9b83-7da215ee4953",
   "metadata": {},
   "source": [
    "# Method 1 \n",
    "##### Note: When we use an else block in combination with a for loop, then the else will be executed only when it completes all the iterations in for"
   ]
  },
  {
   "cell_type": "code",
   "execution_count": 1,
   "id": "0d256631-1e83-4fff-9f72-bf73f05ef5e7",
   "metadata": {},
   "outputs": [],
   "source": [
    "inputString1 = \"10100110\"\n",
    "inputString2 = \"0101\""
   ]
  },
  {
   "cell_type": "code",
   "execution_count": 2,
   "id": "499f3147-c1a7-42e3-8fde-161979901870",
   "metadata": {},
   "outputs": [],
   "source": [
    "inputString3 = \"1200\"\n",
    "inputString4 = \"11003445\""
   ]
  },
  {
   "cell_type": "code",
   "execution_count": 5,
   "id": "0cdae650-f3f8-4847-8d13-d7719052dbc7",
   "metadata": {},
   "outputs": [],
   "source": [
    "def method1(inputString):\n",
    "    for ch in inputString:\n",
    "        if ch not in '10':\n",
    "            print(\"No\")\n",
    "            break\n",
    "    else:\n",
    "        print(\"Yes\")"
   ]
  },
  {
   "cell_type": "code",
   "execution_count": 6,
   "id": "1c3a9106-0ceb-4e80-8162-229b14f2b3be",
   "metadata": {},
   "outputs": [
    {
     "name": "stdout",
     "output_type": "stream",
     "text": [
      "Yes\n"
     ]
    }
   ],
   "source": [
    "method1(inputString1)"
   ]
  },
  {
   "cell_type": "code",
   "execution_count": 8,
   "id": "b5e49c61-ba6b-4f8d-a945-33cbc22346f4",
   "metadata": {},
   "outputs": [
    {
     "name": "stdout",
     "output_type": "stream",
     "text": [
      "Yes\n"
     ]
    }
   ],
   "source": [
    "method1(inputString2)"
   ]
  },
  {
   "cell_type": "code",
   "execution_count": 9,
   "id": "58e58fdb-d14b-4b4a-a2d2-24002e8471c3",
   "metadata": {},
   "outputs": [
    {
     "name": "stdout",
     "output_type": "stream",
     "text": [
      "No\n"
     ]
    }
   ],
   "source": [
    "method1(inputString3)"
   ]
  },
  {
   "cell_type": "code",
   "execution_count": 10,
   "id": "f94d2366-10b5-44c9-83dc-afb9c3719208",
   "metadata": {},
   "outputs": [
    {
     "name": "stdout",
     "output_type": "stream",
     "text": [
      "No\n"
     ]
    }
   ],
   "source": [
    "method1(inputString4)"
   ]
  },
  {
   "cell_type": "markdown",
   "id": "5d441acd-ccbe-4a80-b35d-c35d3b8be0a4",
   "metadata": {},
   "source": [
    "# Method 2 - using set"
   ]
  },
  {
   "cell_type": "code",
   "execution_count": 11,
   "id": "9fe8b771-4ab6-4b8b-b7b1-a84d873d529a",
   "metadata": {},
   "outputs": [
    {
     "data": {
      "text/plain": [
       "{'0', '1'}"
      ]
     },
     "execution_count": 11,
     "metadata": {},
     "output_type": "execute_result"
    }
   ],
   "source": [
    "set(\"10100\")"
   ]
  },
  {
   "cell_type": "code",
   "execution_count": 14,
   "id": "55c51c1c-e443-405e-96e3-b83033d3ad03",
   "metadata": {},
   "outputs": [
    {
     "data": {
      "text/plain": [
       "True"
      ]
     },
     "execution_count": 14,
     "metadata": {},
     "output_type": "execute_result"
    }
   ],
   "source": [
    "set(\"10100\").issubset({'0', '1'})"
   ]
  },
  {
   "cell_type": "code",
   "execution_count": 15,
   "id": "b30ab21b-3b3e-4902-9e8d-2b977e6a0ecd",
   "metadata": {},
   "outputs": [
    {
     "data": {
      "text/plain": [
       "True"
      ]
     },
     "execution_count": 15,
     "metadata": {},
     "output_type": "execute_result"
    }
   ],
   "source": [
    "set(\"10100\").issubset({'1', '0'})"
   ]
  },
  {
   "cell_type": "code",
   "execution_count": 18,
   "id": "0d3389cf-f9cf-4a9a-b962-6bad6144bf07",
   "metadata": {},
   "outputs": [],
   "source": [
    "def method2(inputStr):\n",
    "    if set(inputStr).issubset({'0', '1'}):\n",
    "        return \"Yes\"\n",
    "    else:\n",
    "        return \"No\""
   ]
  },
  {
   "cell_type": "code",
   "execution_count": 19,
   "id": "f892ff89-cc48-4c0e-8442-4bf338b93553",
   "metadata": {},
   "outputs": [
    {
     "name": "stdout",
     "output_type": "stream",
     "text": [
      "Yes\n",
      "Yes\n",
      "No\n",
      "No\n"
     ]
    }
   ],
   "source": [
    "print(method2(inputString1))\n",
    "print(method2(inputString2))\n",
    "print(method2(inputString3))\n",
    "print(method2(inputString4))"
   ]
  },
  {
   "cell_type": "markdown",
   "id": "8764398b-49a9-4ea1-a289-4eae1c7a4ad9",
   "metadata": {},
   "source": [
    "# Method 3 - using all"
   ]
  },
  {
   "cell_type": "code",
   "execution_count": 20,
   "id": "a67ddd06-f784-4f15-ba96-994ace42032a",
   "metadata": {},
   "outputs": [
    {
     "data": {
      "text/plain": [
       "True"
      ]
     },
     "execution_count": 20,
     "metadata": {},
     "output_type": "execute_result"
    }
   ],
   "source": [
    "all([True,True])"
   ]
  },
  {
   "cell_type": "code",
   "execution_count": 23,
   "id": "50634322-8746-473f-aa9f-0e5c727a3a4b",
   "metadata": {},
   "outputs": [
    {
     "data": {
      "text/plain": [
       "False"
      ]
     },
     "execution_count": 23,
     "metadata": {},
     "output_type": "execute_result"
    }
   ],
   "source": [
    "all([True,False])"
   ]
  },
  {
   "cell_type": "code",
   "execution_count": 22,
   "id": "3de0313c-1ee9-475a-bc4c-73f78378a943",
   "metadata": {},
   "outputs": [
    {
     "data": {
      "text/plain": [
       "True"
      ]
     },
     "execution_count": 22,
     "metadata": {},
     "output_type": "execute_result"
    }
   ],
   "source": [
    "all([1,1,1])"
   ]
  },
  {
   "cell_type": "code",
   "execution_count": 24,
   "id": "6ab44f2d-3cf1-48d4-9b4e-2f30cc69da55",
   "metadata": {},
   "outputs": [
    {
     "data": {
      "text/plain": [
       "False"
      ]
     },
     "execution_count": 24,
     "metadata": {},
     "output_type": "execute_result"
    }
   ],
   "source": [
    "all([1,1,0])"
   ]
  },
  {
   "cell_type": "code",
   "execution_count": 27,
   "id": "be61801f-094b-4e96-8487-cf373a483d54",
   "metadata": {},
   "outputs": [],
   "source": [
    "def method3(inpStr):\n",
    "    checkList = []\n",
    "    for ch in inpStr:\n",
    "        checkList.append(ch in \"01\")\n",
    "    if all(checkList):\n",
    "        return \"YES\"\n",
    "    else:\n",
    "        return \"NO\"\n",
    "        "
   ]
  },
  {
   "cell_type": "code",
   "execution_count": 28,
   "id": "1b9acdc5-eb9a-4bee-921b-bd54e3c567a2",
   "metadata": {},
   "outputs": [
    {
     "name": "stdout",
     "output_type": "stream",
     "text": [
      "YES\n",
      "YES\n",
      "NO\n",
      "NO\n"
     ]
    }
   ],
   "source": [
    "print(method3(inputString1))\n",
    "print(method3(inputString2))\n",
    "print(method3(inputString3))\n",
    "print(method3(inputString4))"
   ]
  },
  {
   "cell_type": "markdown",
   "id": "1bb40397-7e0b-40f4-9686-f5bf8d1b1767",
   "metadata": {},
   "source": [
    "# Method 4 - regular expressions"
   ]
  },
  {
   "cell_type": "code",
   "execution_count": 31,
   "id": "592f5310-5036-4d4f-80a8-51225f6c4f5c",
   "metadata": {},
   "outputs": [
    {
     "name": "stdout",
     "output_type": "stream",
     "text": [
      "None\n"
     ]
    }
   ],
   "source": [
    "import re \n",
    "print(re.fullmatch('[10]+',\"1234\"))"
   ]
  },
  {
   "cell_type": "code",
   "execution_count": 32,
   "id": "f513b46f-d8a0-4001-a735-e1f6ac2d5ca5",
   "metadata": {},
   "outputs": [
    {
     "name": "stdout",
     "output_type": "stream",
     "text": [
      "<re.Match object; span=(0, 5), match='10110'>\n"
     ]
    }
   ],
   "source": [
    "print(re.fullmatch('[10]+',\"10110\"))"
   ]
  },
  {
   "cell_type": "code",
   "execution_count": null,
   "id": "5877b45e-2ce7-4394-b6dd-641e2dd334e7",
   "metadata": {},
   "outputs": [],
   "source": [
    "def method4(inpStr):\n",
    "    if re.fullmatch('[10]+',inpStr):\n",
    "        "
   ]
  },
  {
   "cell_type": "code",
   "execution_count": null,
   "id": "43face9e-dc6a-4276-973d-d8dd78f364ba",
   "metadata": {},
   "outputs": [],
   "source": []
  }
 ],
 "metadata": {
  "kernelspec": {
   "display_name": "Python 3 (ipykernel)",
   "language": "python",
   "name": "python3"
  },
  "language_info": {
   "codemirror_mode": {
    "name": "ipython",
    "version": 3
   },
   "file_extension": ".py",
   "mimetype": "text/x-python",
   "name": "python",
   "nbconvert_exporter": "python",
   "pygments_lexer": "ipython3",
   "version": "3.10.15"
  }
 },
 "nbformat": 4,
 "nbformat_minor": 5
}
