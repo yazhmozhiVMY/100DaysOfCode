{
 "cells": [
  {
   "cell_type": "markdown",
   "id": "34a3aaca-4bd5-494a-bfff-e1b4fed8313f",
   "metadata": {},
   "source": [
    "<div class=\"alert alert-block alert-info\">\n",
    "\n",
    "    \n",
    "# Check Prime number (Method 1) ITERATION\n",
    "</div>"
   ]
  },
  {
   "cell_type": "code",
   "execution_count": 11,
   "id": "475e5260-a001-495e-a7d8-a5bef229bd3e",
   "metadata": {},
   "outputs": [
    {
     "name": "stdout",
     "output_type": "stream",
     "text": [
      "15 is not a prime number\n"
     ]
    }
   ],
   "source": [
    "num = 15\n",
    "# Negative numbers, 0 and 1 are not primes\n",
    "if num > 1:\n",
    "  \n",
    "    # If num is divisible by any number between 2 and n / 2, it is not prime\n",
    "    for i in range(2, (num//2)+1):\n",
    "         \n",
    "        if (num % i) == 0:\n",
    "            print(num, \"is not a prime number\")\n",
    "            break\n",
    "    else:\n",
    "        print(num, \"is a prime number\")\n",
    "else:\n",
    "    print(num, \"is not a prime number\")"
   ]
  },
  {
   "cell_type": "markdown",
   "id": "6e1d5e1f-d026-4847-9d26-b8862e80e920",
   "metadata": {},
   "source": [
    "<div class=\"alert alert-block alert-success\">\n",
    "\n",
    "## Time complexity: O(n)\n",
    "## Auxiliary space: O(1)\n",
    "\n",
    "</div>"
   ]
  },
  {
   "cell_type": "markdown",
   "id": "a93b7142-450a-427d-9a81-9bde4ab30b75",
   "metadata": {},
   "source": [
    "<div class=\"alert alert-block alert-info\">\n",
    "\n",
    "    \n",
    "# Check Prime number (Method 2) ITERATION\n",
    "</div>"
   ]
  },
  {
   "cell_type": "code",
   "execution_count": 19,
   "id": "6564c350-0392-437e-ab9e-3c1030f37bcd",
   "metadata": {},
   "outputs": [
    {
     "name": "stdout",
     "output_type": "stream",
     "text": [
      "True\n"
     ]
    }
   ],
   "source": [
    "from math import sqrt\n",
    "\n",
    "n = 13\n",
    "\n",
    "# this flag maintains status whether the n is prime or not\n",
    "prime_flag = 0\n",
    "\n",
    "if(n > 1):\n",
    "    for i in range(2, int(sqrt(n)) + 1):\n",
    "        if (n % i == 0):\n",
    "            prime_flag = 1\n",
    "            break\n",
    "    if (prime_flag == 0):\n",
    "        print(\"True\")\n",
    "    else:\n",
    "        print(\"False\")\n",
    "else:\n",
    "    print(\"False\")"
   ]
  },
  {
   "cell_type": "markdown",
   "id": "a1dfa96c-0418-4067-b4bc-6c2a4265272b",
   "metadata": {},
   "source": [
    "<div class=\"alert alert-block alert-success\">\n",
    "\n",
    "## Time complexity: O(sqrt(n))\n",
    "## Auxiliary space: O(1)\n",
    "\n",
    "</div>"
   ]
  },
  {
   "cell_type": "markdown",
   "id": "a435628e-a36c-4b31-898e-ce5a39e29220",
   "metadata": {},
   "source": [
    "<div class=\"alert alert-block alert-info\">\n",
    "\n",
    "    \n",
    "# Check Prime number (Method 3) RECURSION\n",
    "</div>"
   ]
  },
  {
   "cell_type": "code",
   "execution_count": 26,
   "id": "89e29c5c-c7b2-45de-a7b4-8d4932cd78f4",
   "metadata": {},
   "outputs": [],
   "source": [
    "from math import sqrt\n",
    "\n",
    "# prime function to check given number prime or not\n",
    "def Prime(number, itr):  \n",
    "    # base condition\n",
    "    if itr == 1 or itr == 2:  \n",
    "        return True\n",
    "      # if given number divided by itr or not\n",
    "    if number % itr == 0:  \n",
    "        return False\n",
    "      # Recursive function Call\n",
    "    if Prime(number, itr - 1) == False:  \n",
    "        return False\n",
    "\n",
    "    return True\n",
    "\n"
   ]
  },
  {
   "cell_type": "code",
   "execution_count": 30,
   "id": "7e4d89af-f6b8-4a2e-859b-89dbaefe5dfd",
   "metadata": {},
   "outputs": [
    {
     "name": "stdout",
     "output_type": "stream",
     "text": [
      "True\n"
     ]
    }
   ],
   "source": [
    "num = 23\n",
    "\n",
    "itr = int(sqrt(num) + 1)\n",
    "\n",
    "print(Prime(num, itr))"
   ]
  },
  {
   "cell_type": "code",
   "execution_count": 32,
   "id": "e1234f1f-83c9-4ec9-a445-b0a3b9079d48",
   "metadata": {},
   "outputs": [
    {
     "name": "stdout",
     "output_type": "stream",
     "text": [
      "False\n"
     ]
    }
   ],
   "source": [
    "num = 35\n",
    "\n",
    "itr = int(sqrt(num) + 1)\n",
    "\n",
    "print(Prime(num, itr))"
   ]
  },
  {
   "cell_type": "markdown",
   "id": "ca26e177-2ea4-4cf8-ab86-5555e339043f",
   "metadata": {},
   "source": [
    "<div class=\"alert alert-block alert-success\">\n",
    "\n",
    "## Time complexity: O(sqrt(n))\n",
    "## Auxiliary space: O(sqrt(n))\n",
    "\n",
    "</div>"
   ]
  },
  {
   "cell_type": "code",
   "execution_count": null,
   "id": "51183bba-cf12-49d6-8c40-22121623f0f2",
   "metadata": {},
   "outputs": [],
   "source": []
  },
  {
   "cell_type": "code",
   "execution_count": null,
   "id": "d375d451-d9da-428d-b8ac-90e328134008",
   "metadata": {},
   "outputs": [],
   "source": []
  },
  {
   "cell_type": "code",
   "execution_count": null,
   "id": "e60eb793-6baa-4bce-8cf2-347a6bc9b22f",
   "metadata": {},
   "outputs": [],
   "source": []
  },
  {
   "cell_type": "code",
   "execution_count": null,
   "id": "a3c1c5b0-8bb3-4d8c-8693-1ba82dbaff81",
   "metadata": {},
   "outputs": [],
   "source": []
  }
 ],
 "metadata": {
  "kernelspec": {
   "display_name": "Python 3 (ipykernel)",
   "language": "python",
   "name": "python3"
  },
  "language_info": {
   "codemirror_mode": {
    "name": "ipython",
    "version": 3
   },
   "file_extension": ".py",
   "mimetype": "text/x-python",
   "name": "python",
   "nbconvert_exporter": "python",
   "pygments_lexer": "ipython3",
   "version": "3.12.4"
  }
 },
 "nbformat": 4,
 "nbformat_minor": 5
}
