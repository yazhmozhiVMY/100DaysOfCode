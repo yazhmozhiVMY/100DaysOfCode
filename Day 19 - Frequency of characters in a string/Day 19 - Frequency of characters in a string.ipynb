{
 "cells": [
  {
   "cell_type": "markdown",
   "id": "8802adc5-0a65-4c38-a111-ac9c043fe0a3",
   "metadata": {},
   "source": [
    "<div class = \"alert alert-block alert-info\">\n",
    "\n",
    "## Method 1 (Brute force)\n",
    "</div>"
   ]
  },
  {
   "cell_type": "code",
   "execution_count": 1,
   "id": "875e84f2-030f-4d0e-a224-35a7dee4905c",
   "metadata": {},
   "outputs": [],
   "source": [
    "inputStr = \"Simone de beauvoir\""
   ]
  },
  {
   "cell_type": "code",
   "execution_count": 2,
   "id": "5fc099f7-1200-4e6c-a0cd-1bdb1e51f883",
   "metadata": {},
   "outputs": [
    {
     "name": "stdout",
     "output_type": "stream",
     "text": [
      "{'S': 1, 'i': 2, 'm': 1, 'o': 2, 'n': 1, 'e': 3, ' ': 2, 'd': 1, 'b': 1, 'a': 1, 'u': 1, 'v': 1, 'r': 1}\n"
     ]
    }
   ],
   "source": [
    "freqDict = {}\n",
    "for char in inputStr:\n",
    "    if char in freqDict:\n",
    "        freqDict[char]+=1\n",
    "    else:\n",
    "        freqDict[char]=1\n",
    "print(freqDict)"
   ]
  },
  {
   "cell_type": "markdown",
   "id": "344e8894-6750-42cf-89f7-d9f5a703a83a",
   "metadata": {},
   "source": [
    "<div class =\"alert alert-block alert-success\">\n",
    "\n",
    "#### Time complexity is O(n) where n is the length of the string\n",
    "#### Space complexity is O(n) [to store the dictionary freqDict]\n",
    "</div>"
   ]
  },
  {
   "cell_type": "markdown",
   "id": "bb0342cd-b7ba-4587-ad51-b7c224030233",
   "metadata": {},
   "source": [
    "<div class = \"alert alert-block alert-info\">\n",
    "\n",
    "## Method 2 (Dictionary comprehension)\n",
    "</div>"
   ]
  },
  {
   "cell_type": "code",
   "execution_count": 3,
   "id": "df5b366e-c9a4-429c-945e-3d0da8689ebe",
   "metadata": {},
   "outputs": [],
   "source": [
    "freqDict_method2 = {char:inputStr.count(char) for char in inputStr}"
   ]
  },
  {
   "cell_type": "code",
   "execution_count": 4,
   "id": "9b0658d0-819b-466b-b693-bb96007c7529",
   "metadata": {},
   "outputs": [
    {
     "data": {
      "text/plain": [
       "{'S': 1,\n",
       " 'i': 2,\n",
       " 'm': 1,\n",
       " 'o': 2,\n",
       " 'n': 1,\n",
       " 'e': 3,\n",
       " ' ': 2,\n",
       " 'd': 1,\n",
       " 'b': 1,\n",
       " 'a': 1,\n",
       " 'u': 1,\n",
       " 'v': 1,\n",
       " 'r': 1}"
      ]
     },
     "execution_count": 4,
     "metadata": {},
     "output_type": "execute_result"
    }
   ],
   "source": [
    "freqDict_method2"
   ]
  },
  {
   "cell_type": "markdown",
   "id": "660c3922-71be-4bca-9157-2f814be18c06",
   "metadata": {},
   "source": [
    "<div class =\"alert alert-block alert-success\">\n",
    "\n",
    "#### Time complexity is O(n) where n is the length of the string\n",
    "#### Space complexity is O(n) [to store the dictionary freqDict_method2]\n",
    "</div>"
   ]
  },
  {
   "cell_type": "markdown",
   "id": "be16770a-1741-4f3c-814f-b78545d1b976",
   "metadata": {},
   "source": [
    "<div class = \"alert alert-block alert-info\">\n",
    "\n",
    "## Method 3 (Using counter)\n",
    "</div>"
   ]
  },
  {
   "cell_type": "code",
   "execution_count": 5,
   "id": "393edad4-7c5a-44c8-a534-9620c67c4a2b",
   "metadata": {},
   "outputs": [
    {
     "name": "stdout",
     "output_type": "stream",
     "text": [
      "{'S': 1, 'i': 2, 'm': 1, 'o': 2, 'n': 1, 'e': 3, ' ': 2, 'd': 1, 'b': 1, 'a': 1, 'u': 1, 'v': 1, 'r': 1}\n"
     ]
    }
   ],
   "source": [
    "from collections import Counter\n",
    "\n",
    "c = Counter(inputStr)\n",
    "freqDict_method3 = dict(c)\n",
    "print(freqDict_method3)"
   ]
  },
  {
   "cell_type": "code",
   "execution_count": 6,
   "id": "ddb3f047-f040-4456-ab38-ae56296b5315",
   "metadata": {},
   "outputs": [
    {
     "data": {
      "text/plain": [
       "True"
      ]
     },
     "execution_count": 6,
     "metadata": {},
     "output_type": "execute_result"
    }
   ],
   "source": [
    "freqDict == freqDict_method2"
   ]
  },
  {
   "cell_type": "code",
   "execution_count": 7,
   "id": "fc4f21bd-6631-4427-9831-7f85166c2930",
   "metadata": {},
   "outputs": [
    {
     "data": {
      "text/plain": [
       "True"
      ]
     },
     "execution_count": 7,
     "metadata": {},
     "output_type": "execute_result"
    }
   ],
   "source": [
    "freqDict_method2 == freqDict_method3"
   ]
  }
 ],
 "metadata": {
  "kernelspec": {
   "display_name": "Python 3 (ipykernel)",
   "language": "python",
   "name": "python3"
  },
  "language_info": {
   "codemirror_mode": {
    "name": "ipython",
    "version": 3
   },
   "file_extension": ".py",
   "mimetype": "text/x-python",
   "name": "python",
   "nbconvert_exporter": "python",
   "pygments_lexer": "ipython3",
   "version": "3.10.15"
  }
 },
 "nbformat": 4,
 "nbformat_minor": 5
}
