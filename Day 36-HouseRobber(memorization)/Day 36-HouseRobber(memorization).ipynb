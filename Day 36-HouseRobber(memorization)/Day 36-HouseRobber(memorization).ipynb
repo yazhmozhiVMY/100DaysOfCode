{
 "cells": [
  {
   "cell_type": "code",
   "execution_count": 4,
   "id": "67f6630f-e342-4761-a772-518c9a09e1fa",
   "metadata": {},
   "outputs": [],
   "source": [
    "def mL(a, n, memo):\n",
    "    if n <= 0:\n",
    "        return 0\n",
    "    if n == 1:\n",
    "        return a[0]\n",
    "\n",
    "    # Check if the result is already computed\n",
    "    if memo[n] != -1:\n",
    "        return memo[n]\n",
    "\n",
    "    pick = a[n - 1] + maxLootRec(a, n - 2, memo)\n",
    "    notPick = maxLootRec(a, n - 1, memo)\n",
    "\n",
    "    # Store the max of two choices in the memo array and return it\n",
    "    memo[n] = max(pick, notPick)\n",
    "    return memo[n]\n",
    "\n"
   ]
  },
  {
   "cell_type": "code",
   "execution_count": 5,
   "id": "10a5136f-e216-46c6-9350-7ce038e98e2d",
   "metadata": {},
   "outputs": [
    {
     "name": "stdout",
     "output_type": "stream",
     "text": [
      "15\n"
     ]
    }
   ],
   "source": [
    "a=[6,7,1,3,8]\n",
    "n = len(a)\n",
    "# Initialize memo array with -1\n",
    "memo = [-1] * (n + 1)\n",
    "print(mL(a, n, memo))\n"
   ]
  },
  {
   "cell_type": "code",
   "execution_count": 6,
   "id": "b141b32c-917e-4de7-8f73-d17820aca7d2",
   "metadata": {},
   "outputs": [
    {
     "name": "stdout",
     "output_type": "stream",
     "text": [
      "19\n"
     ]
    }
   ],
   "source": [
    "a=[6, 7, 1, 3, 8, 2, 4]\n",
    "n = len(a)\n",
    "# Initialize memo array with -1\n",
    "memo = [-1] * (n + 1)\n",
    "print(mL(a, n, memo))\n"
   ]
  },
  {
   "cell_type": "markdown",
   "id": "4db07b07-14cd-41fe-9de6-dfb542d5d7ed",
   "metadata": {},
   "source": [
    "Time Complexity: O(n). Every house is computed only once.\n",
    "Auxiliary Space: O(n). For recursion stack space and memo array."
   ]
  },
  {
   "cell_type": "code",
   "execution_count": null,
   "id": "a3945dc3-1f95-45e1-9452-5a5379400a3a",
   "metadata": {},
   "outputs": [],
   "source": []
  }
 ],
 "metadata": {
  "kernelspec": {
   "display_name": "Python 3 (ipykernel)",
   "language": "python",
   "name": "python3"
  },
  "language_info": {
   "codemirror_mode": {
    "name": "ipython",
    "version": 3
   },
   "file_extension": ".py",
   "mimetype": "text/x-python",
   "name": "python",
   "nbconvert_exporter": "python",
   "pygments_lexer": "ipython3",
   "version": "3.10.15"
  }
 },
 "nbformat": 4,
 "nbformat_minor": 5
}
